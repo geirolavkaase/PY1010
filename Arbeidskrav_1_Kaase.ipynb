{
 "cells": [
  {
   "cell_type": "markdown",
   "id": "51094b8b-458f-4260-8cd1-fb9e02a8a254",
   "metadata": {},
   "source": [
    "<h1>Årlige kostnader for EL-bil vs bensinbil</h1>"
   ]
  },
  {
   "cell_type": "markdown",
   "id": "f1f7826b-dbca-4e4a-96de-ee5480e1ff45",
   "metadata": {},
   "source": [
    "Geir Olav Kaase, 23.09.25"
   ]
  },
  {
   "cell_type": "markdown",
   "id": "37fe2351-b82a-47ee-89e8-efaad7e3681d",
   "metadata": {},
   "source": [
    "Dette skriptet beregner de årlige kostnader for bruk av en typisk elbil og en typisk bensinbil \n",
    "under følgende antakelser som gitt i oppgave teksten: "
   ]
  },
  {
   "cell_type": "code",
   "execution_count": 32,
   "id": "7c8fc557-b4b9-4273-870f-58623bada2cc",
   "metadata": {},
   "outputs": [
    {
     "name": "stdout",
     "output_type": "stream",
     "text": [
      "Under følgende antakelser beregnes den årlige kostnaden for EL-bil og bensinbil:\n"
     ]
    }
   ],
   "source": [
    "print(\"Under følgende antakelser beregnes den årlige kostnaden for EL-bil og bensinbil:\")"
   ]
  },
  {
   "cell_type": "markdown",
   "id": "224b91a0-348b-4bc4-91f7-9dd47671424d",
   "metadata": {},
   "source": [
    "<h3>Felles antakelser:</h3>"
   ]
  },
  {
   "cell_type": "code",
   "execution_count": 33,
   "id": "5293e3f0-94c5-467f-93ff-352720c1a697",
   "metadata": {},
   "outputs": [
    {
     "name": "stdout",
     "output_type": "stream",
     "text": [
      "Årlig kjørelengde: 10000 [km]\n",
      "Trafikkforsikringsavgift: 8.38 [kr/dag]\n"
     ]
    }
   ],
   "source": [
    "km = 10000    # [km] årlig kjørt distanse \n",
    "print(\"Årlig kjørelengde:\", km, \"[km]\")\n",
    "f_av = 8.38  # [kr/dag] trafikkforsikringsavgift \n",
    "print(\"Trafikkforsikringsavgift:\", f_av, \"[kr/dag]\")"
   ]
  },
  {
   "cell_type": "markdown",
   "id": "0e56e711-75cf-4848-b75c-dc6a7f0af418",
   "metadata": {},
   "source": [
    "<h3>Antakelser for EL-bil:</h3>"
   ]
  },
  {
   "cell_type": "code",
   "execution_count": 34,
   "id": "3da1af3c-d906-44c5-a367-ffe008863ca2",
   "metadata": {},
   "outputs": [
    {
     "name": "stdout",
     "output_type": "stream",
     "text": [
      "Bilforsikring ELbil: 5000 [kr/år]\n",
      "Strømforbruk ELbil: 0.2 [kWh/km]\n",
      "Strømpris: 2 [kr/kWh]\n",
      "Bomavgift Elbil: 0.1 [kr/km]\n"
     ]
    }
   ],
   "source": [
    "f_el = 5000  # [kr/år] forsikringskostnad per år\n",
    "print(\"Bilforsikring ELbil:\", f_el, \"[kr/år]\")\n",
    "wltp = 0.2   # [kWh/km] strømforbruk per km\n",
    "print(\"Strømforbruk ELbil:\", wltp, \"[kWh/km]\")\n",
    "el_p = 2     # [kr/kWh] strømpris \n",
    "print(\"Strømpris:\", el_p, \"[kr/kWh]\")\n",
    "bom_el = 0.1 # [kr/km] kostnad for bompasseringer \n",
    "print(\"Bomavgift Elbil:\", bom_el, \"[kr/km]\")"
   ]
  },
  {
   "cell_type": "markdown",
   "id": "ba7b1e80-9bb0-45a7-a1f5-2f66db93336b",
   "metadata": {},
   "source": [
    "<h3>Antakelser for bensinbil:</h3>"
   ]
  },
  {
   "cell_type": "code",
   "execution_count": 35,
   "id": "8c412dbf-9247-4574-965b-e88a45c3dbaf",
   "metadata": {},
   "outputs": [
    {
     "name": "stdout",
     "output_type": "stream",
     "text": [
      "Bilforsikring bensinbil: 7500 [kr/år]\n",
      "Drivstoffkostnad: 1 [kr/km]\n",
      "Bomavgift bensinbil: 0.3 [kr/km]\n"
     ]
    }
   ],
   "source": [
    "f_b = 7500  # [kr/år] forsikringskostnad per år\n",
    "print(\"Bilforsikring bensinbil:\", f_b, \"[kr/år]\")\n",
    "b_km = 1    # [kr/km] drivstoffkostnad per km\n",
    "print(\"Drivstoffkostnad:\", b_km, \"[kr/km]\")\n",
    "bom_b = 0.3 # [kr/km] kostnad for bompasseringer\n",
    "print(\"Bomavgift bensinbil:\", bom_b, \"[kr/km]\")"
   ]
  },
  {
   "cell_type": "markdown",
   "id": "9e608c74-6235-4a53-b404-df39e8d7b069",
   "metadata": {},
   "source": [
    "<h3>Beregning av årlig kostnad for ELbil:</h3>"
   ]
  },
  {
   "cell_type": "code",
   "execution_count": 36,
   "id": "3d2fbb44-40f3-4d54-8354-cd6f058b90bf",
   "metadata": {},
   "outputs": [
    {
     "name": "stdout",
     "output_type": "stream",
     "text": [
      "Årlig kostnad for ELbil: 13058.7 [kr/år]\n"
     ]
    }
   ],
   "source": [
    "EL_ko = f_el + (el_p*wltp + bom_el)*km + f_av*365 # [kr/år]\n",
    "print(\"Årlig kostnad for ELbil:\", EL_ko, \"[kr/år]\")"
   ]
  },
  {
   "cell_type": "markdown",
   "id": "6b615530-5fc3-475d-92c3-b309e7eabe4d",
   "metadata": {},
   "source": [
    "<h3>Beregning av årlig kostnad for bensinbil:</h3>"
   ]
  },
  {
   "cell_type": "code",
   "execution_count": 37,
   "id": "2adb56f3-c7f7-4e17-9b72-c56994ea3388",
   "metadata": {},
   "outputs": [
    {
     "name": "stdout",
     "output_type": "stream",
     "text": [
      "Årlig kostnad for bensinbil: 23558.7 [kr/år]\n"
     ]
    }
   ],
   "source": [
    "BEN_ko = f_b + (b_km + bom_b)*km + f_av*365 # [kr/år]\n",
    "print(\"Årlig kostnad for bensinbil:\", BEN_ko, \"[kr/år]\")"
   ]
  },
  {
   "cell_type": "markdown",
   "id": "bfc4ed1d-83fa-4202-b3c3-a28a8d3e2a9c",
   "metadata": {},
   "source": [
    "<h3>Differanse i årlige kostnader:</h3>\n",
    "<h4>(uttrykt som årlig tilleggskostnad for bensinbil)</h4>"
   ]
  },
  {
   "cell_type": "code",
   "execution_count": 38,
   "id": "e875155d-5c77-4564-bfae-8a2ed094f022",
   "metadata": {},
   "outputs": [
    {
     "name": "stdout",
     "output_type": "stream",
     "text": [
      "Årlig tilleggskostnad for bensinbil: 10500.0 [kr/år]\n"
     ]
    }
   ],
   "source": [
    "Diff = BEN_ko - EL_ko # [kr/år]\n",
    "print(\"Årlig tilleggskostnad for bensinbil:\", Diff, \"[kr/år]\")"
   ]
  }
 ],
 "metadata": {
  "kernelspec": {
   "display_name": "Python 3 (ipykernel)",
   "language": "python",
   "name": "python3"
  },
  "language_info": {
   "codemirror_mode": {
    "name": "ipython",
    "version": 3
   },
   "file_extension": ".py",
   "mimetype": "text/x-python",
   "name": "python",
   "nbconvert_exporter": "python",
   "pygments_lexer": "ipython3",
   "version": "3.13.5"
  }
 },
 "nbformat": 4,
 "nbformat_minor": 5
}
